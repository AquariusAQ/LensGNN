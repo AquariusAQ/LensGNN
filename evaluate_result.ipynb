{
 "cells": [
  {
   "cell_type": "code",
   "execution_count": 2,
   "metadata": {},
   "outputs": [],
   "source": [
    "import json\n",
    "import os\n",
    "from pprint import pprint"
   ]
  },
  {
   "cell_type": "code",
   "execution_count": 3,
   "metadata": {},
   "outputs": [],
   "source": [
    "def evaluate(output_config_name=None, on_train_or_test=None, write_result=True, checkpoint=0, full_name=None):\n",
    "    if write_result:\n",
    "        with open(os.path.join(\"./output_config\", output_config_name+\".json\")) as f:\n",
    "            config = json.load(f)\n",
    "    if full_name == None:\n",
    "        if checkpoint == 0:\n",
    "            llm_result_path = f\"./LLaMA-Factory/saves/Baichuan2-13B-Chat/lora/predict/gnn_aggregator_{output_config_name}_predict_on_{on_train_or_test}/generated_predictions.jsonl\"\n",
    "        else:\n",
    "            llm_result_path = f\"./LLaMA-Factory/saves/Baichuan2-13B-Chat/lora/predict/gnn_aggregator_{output_config_name}_predict_on_{on_train_or_test}/checkpoint-{checkpoint}/generated_predictions.jsonl\"\n",
    "    else:\n",
    "        llm_result_path = f\"./LLaMA-Factory/saves/Baichuan2-13B-Chat/lora/predict/{full_name}/generated_predictions.jsonl\"\n",
    "    result = []\n",
    "    total = 0\n",
    "    with open(llm_result_path) as f:\n",
    "        while True:\n",
    "            s = f.readline()\n",
    "            if s == \"\":\n",
    "                break\n",
    "            else:\n",
    "                total += 1\n",
    "            try:\n",
    "                j = json.loads(s)\n",
    "                j[\"label\"] = j[\"label\"]\n",
    "                j[\"predict\"] = j[\"predict\"]\n",
    "                # j[\"label\"] = int(j[\"label\"][-2])\n",
    "                # j[\"predict\"] = int(j[\"predict\"][-2])\n",
    "                result.append(j)\n",
    "            except:\n",
    "                pass\n",
    "    # print(result)\n",
    "\n",
    "    same = 0\n",
    "    for i, r in enumerate(result):\n",
    "        if r[\"label\"] == r[\"predict\"]:\n",
    "            same += 1\n",
    "    print(f\"total {total}, same {same}, simularity {same / total}\")\n",
    "\n",
    "    if write_result:\n",
    "        config[on_train_or_test + \"_acc\" + (\"\" if checkpoint==0 else (\"_\"+str(checkpoint)))] = same / total\n",
    "        with open(os.path.join(\"./output_config\", output_config_name+\".json\"), \"w\") as f:\n",
    "            json.dump(config, f, indent=4)\n",
    "\n",
    "    \n",
    "    return \"{:.4f}\".format(same / total)"
   ]
  },
  {
   "cell_type": "code",
   "execution_count": null,
   "metadata": {},
   "outputs": [],
   "source": [
    "for m in [\"gcn_\", \"gat_\", \"gin_\", \"gcn_gat_gin\"]:\n",
    "    for d0 in [\"arxiv\", \"products\"]:\n",
    "        for d1 in [\"arxiv\", \"pubmed\", \"cora\"]:\n",
    "            for shot in [\"0_shot\", \"1_shot\", \"5_shot\"]:\n",
    "                for ri in r:\n",
    "                    if ri[0]==m and ri[1] == d0 and ri[2] == d1 and ri[3] == shot:\n",
    "                        print(ri[4], end=\" & \")\n",
    "    print()"
   ]
  },
  {
   "cell_type": "code",
   "execution_count": null,
   "metadata": {},
   "outputs": [],
   "source": [
    "for root, dirs, files in os.walk(\"./output_config\"):\n",
    "    for file in files:\n",
    "        if \"ensemble\" in file:\n",
    "            output_config_name = file[:-5]\n",
    "            for checkpoint in [0]:\n",
    "                for on_train_or_test in [\"train\", \"test\"]:\n",
    "                    if checkpoint == 0:\n",
    "                        t_dir = f\"./LLaMA-Factory/saves/Baichuan2-13B-Chat/lora/predict/gnn_aggregator_{output_config_name}_predict_on_{on_train_or_test}/generated_predictions.jsonl\"\n",
    "                    else:\n",
    "                        t_dir = f\"./LLaMA-Factory/saves/Baichuan2-13B-Chat/lora/predict/gnn_aggregator_{output_config_name}_predict_on_{on_train_or_test}/checkpoint-{checkpoint}/generated_predictions.jsonl\"\n",
    "                    if os.path.exists(t_dir):\n",
    "                        print(output_config_name)\n",
    "                        evaluate(output_config_name, on_train_or_test, checkpoint=checkpoint)\n",
    "                    else:\n",
    "                        pass\n",
    "                        # print(f\"Warning: Cannot find {t_dir}\")"
   ]
  },
  {
   "cell_type": "code",
   "execution_count": null,
   "metadata": {},
   "outputs": [],
   "source": []
  }
 ],
 "metadata": {
  "kernelspec": {
   "display_name": "base",
   "language": "python",
   "name": "python3"
  },
  "language_info": {
   "codemirror_mode": {
    "name": "ipython",
    "version": 3
   },
   "file_extension": ".py",
   "mimetype": "text/x-python",
   "name": "python",
   "nbconvert_exporter": "python",
   "pygments_lexer": "ipython3",
   "version": "3.11.5"
  }
 },
 "nbformat": 4,
 "nbformat_minor": 2
}
